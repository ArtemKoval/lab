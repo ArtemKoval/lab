{
  "nbformat": 4,
  "nbformat_minor": 0,
  "metadata": {
    "colab": {
      "provenance": []
    },
    "kernelspec": {
      "name": "python3",
      "display_name": "Python 3"
    },
    "language_info": {
      "name": "python"
    }
  },
  "cells": [
    {
      "cell_type": "code",
      "execution_count": null,
      "metadata": {
        "colab": {
          "base_uri": "https://localhost:8080/"
        },
        "id": "qugmis46CpnA",
        "outputId": "d8863d9c-1a5b-48c6-cd33-65a667b26148"
      },
      "outputs": [
        {
          "output_type": "stream",
          "name": "stdout",
          "text": [
            "Requirement already satisfied: openai in /usr/local/lib/python3.11/dist-packages (1.86.0)\n",
            "Requirement already satisfied: anyio<5,>=3.5.0 in /usr/local/lib/python3.11/dist-packages (from openai) (4.9.0)\n",
            "Requirement already satisfied: distro<2,>=1.7.0 in /usr/local/lib/python3.11/dist-packages (from openai) (1.9.0)\n",
            "Requirement already satisfied: httpx<1,>=0.23.0 in /usr/local/lib/python3.11/dist-packages (from openai) (0.28.1)\n",
            "Requirement already satisfied: jiter<1,>=0.4.0 in /usr/local/lib/python3.11/dist-packages (from openai) (0.10.0)\n",
            "Requirement already satisfied: pydantic<3,>=1.9.0 in /usr/local/lib/python3.11/dist-packages (from openai) (2.11.5)\n",
            "Requirement already satisfied: sniffio in /usr/local/lib/python3.11/dist-packages (from openai) (1.3.1)\n",
            "Requirement already satisfied: tqdm>4 in /usr/local/lib/python3.11/dist-packages (from openai) (4.67.1)\n",
            "Requirement already satisfied: typing-extensions<5,>=4.11 in /usr/local/lib/python3.11/dist-packages (from openai) (4.14.0)\n",
            "Requirement already satisfied: idna>=2.8 in /usr/local/lib/python3.11/dist-packages (from anyio<5,>=3.5.0->openai) (3.10)\n",
            "Requirement already satisfied: certifi in /usr/local/lib/python3.11/dist-packages (from httpx<1,>=0.23.0->openai) (2025.4.26)\n",
            "Requirement already satisfied: httpcore==1.* in /usr/local/lib/python3.11/dist-packages (from httpx<1,>=0.23.0->openai) (1.0.9)\n",
            "Requirement already satisfied: h11>=0.16 in /usr/local/lib/python3.11/dist-packages (from httpcore==1.*->httpx<1,>=0.23.0->openai) (0.16.0)\n",
            "Requirement already satisfied: annotated-types>=0.6.0 in /usr/local/lib/python3.11/dist-packages (from pydantic<3,>=1.9.0->openai) (0.7.0)\n",
            "Requirement already satisfied: pydantic-core==2.33.2 in /usr/local/lib/python3.11/dist-packages (from pydantic<3,>=1.9.0->openai) (2.33.2)\n",
            "Requirement already satisfied: typing-inspection>=0.4.0 in /usr/local/lib/python3.11/dist-packages (from pydantic<3,>=1.9.0->openai) (0.4.1)\n",
            "Original query: cheap phone\n",
            "Rewritten query: 'affordable smartphones'\n",
            "\n",
            "Generated blog content:\n",
            " Welcome to our newest blog post! Today, we dive deeper into the captivating realm of artificial intelligence (AI) and its potential influence in revolutionizing the healthcare sector. In this era where technology's rapid evolution is reshaping industries, AI is emerging as a significant game-changer, specifically in healthcare. From disease detection to patient care, data management to drug discovery, this fascinating blend of technology and medicine holds a promise of fundamental transformations. Join us as we explore these potential changes, breakthroughs in AI, and how they are poised to redefine the future of healthcare around the globe—a future that is not just about technological improvements, but about healthier, longer lives for all. Stay tuned, as the future is not just coming, it's in the making!\n",
            "\n",
            "AI-generated feedback tags:\n",
            "                                            Feedback  \\\n",
            "0    I love the new checkout flow. It’s much faster!   \n",
            "1  The search results are totally off. Hard to fi...   \n",
            "2           Support was slow to respond to my issue.   \n",
            "3    Personalized recommendations are super helpful.   \n",
            "\n",
            "                                             AI Tags  \n",
            "0                Positive feedback, Checkout process  \n",
            "1         Inaccurate search results, User Experience  \n",
            "2                     Slow Support, Delayed Response  \n",
            "3  'Personalized Recommendations', 'Positive Feed...  \n"
          ]
        }
      ],
      "source": [
        "# Only install openai, do NOT upgrade pandas in Colab\n",
        "!pip install --upgrade openai\n",
        "\n",
        "import openai\n",
        "import pandas as pd\n",
        "from google.colab import userdata\n",
        "\n",
        "# Use new OpenAI client (v1.x style)\n",
        "client = openai.OpenAI(api_key=userdata.get('OPENAI_API_KEY'))  # Replace with your key\n",
        "\n",
        "# Chat function using GPT-4\n",
        "def ask_chatgpt(prompt, system_msg=\"You are a helpful assistant.\"):\n",
        "    response = client.chat.completions.create(\n",
        "        model=\"gpt-4\",\n",
        "        messages=[\n",
        "            {\"role\": \"system\", \"content\": system_msg},\n",
        "            {\"role\": \"user\", \"content\": prompt}\n",
        "        ]\n",
        "    )\n",
        "    return response.choices[0].message.content.strip()\n",
        "\n",
        "# 1. AI as an Add-On: Rewrite user query\n",
        "user_query = \"cheap phone\"\n",
        "rewritten_query = ask_chatgpt(\n",
        "    f\"Rewrite the following search query to improve relevance on an e-commerce site: '{user_query}'\"\n",
        ")\n",
        "print(\"Original query:\", user_query)\n",
        "print(\"Rewritten query:\", rewritten_query)\n",
        "\n",
        "# 2. AI as Core Product: Generate content\n",
        "blog_prompt = \"Write a short blog intro about the future of AI in healthcare.\"\n",
        "blog_output = ask_chatgpt(blog_prompt)\n",
        "print(\"\\nGenerated blog content:\\n\", blog_output)\n",
        "\n",
        "# 3. AI as Internal Enabler: Auto-tag user feedback\n",
        "feedback_data = pd.Series([\n",
        "    \"I love the new checkout flow. It’s much faster!\",\n",
        "    \"The search results are totally off. Hard to find what I want.\",\n",
        "    \"Support was slow to respond to my issue.\",\n",
        "    \"Personalized recommendations are super helpful.\"\n",
        "])\n",
        "\n",
        "tags = []\n",
        "for feedback in feedback_data:\n",
        "    tag = ask_chatgpt(\n",
        "        f\"Assign one or two short tags for this user feedback: '{feedback}'\",\n",
        "        system_msg=\"You are a product manager classifying user feedback.\"\n",
        "    )\n",
        "    tags.append(tag)\n",
        "\n",
        "df = pd.DataFrame({\n",
        "    \"Feedback\": feedback_data,\n",
        "    \"AI Tags\": tags\n",
        "})\n",
        "\n",
        "print(\"\\nAI-generated feedback tags:\")\n",
        "print(df)\n"
      ]
    }
  ]
}