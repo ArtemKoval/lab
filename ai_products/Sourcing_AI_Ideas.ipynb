{
  "nbformat": 4,
  "nbformat_minor": 0,
  "metadata": {
    "colab": {
      "provenance": []
    },
    "kernelspec": {
      "name": "python3",
      "display_name": "Python 3"
    },
    "language_info": {
      "name": "python"
    }
  },
  "cells": [
    {
      "cell_type": "code",
      "execution_count": 2,
      "metadata": {
        "colab": {
          "base_uri": "https://localhost:8080/"
        },
        "id": "OK3WNVankWsP",
        "outputId": "130d3ae8-9a8b-4e74-bc4c-d7a85dd38ccb"
      },
      "outputs": [
        {
          "output_type": "stream",
          "name": "stdout",
          "text": [
            "🤖 ChatGPT's AI Opportunity Evaluation:\n",
            "\n",
            "High potential:\n",
            "- Customers struggle to find the right product quickly: AI can be used to drive sophisticated product recommendation systems based on user behavior and preferences.\n",
            "- Users complain that recommendations feel generic: AI can be used to develop more personalized recommendation systems.\n",
            "- Automate data tagging for analytics: AI can be used to classify and tag data, making it easier to analyze.\n",
            "- Use AI to summarize long internal reports: AI can be used to summarize and present key insights from lengthy reports, saving time for decision-makers.\n",
            "- AI-driven personalization increases engagement rates: AI can be used to personalize content, ads, and user experiences, which often leads to higher engagement rates.  \n",
            "\n",
            "Moderate potential:\n",
            "- Support tickets are often about password resets: AI can be used to automate password resets, but it doesn't fully utilize the potential of AI.\n",
            "- Improve onboarding using interactive walkthroughs: AI can be used to personalize onboarding experiences, but it's not a groundbreaking use of AI.\n",
            "- AI copilots are improving productivity: AI can assist in tasks and improve productivity, but it depends on the specific use case and implementation.\n",
            "\n",
            "Low potential:\n",
            "- Large language models are being used to write code: While AI can help write code, it's a complex task that requires a deep understanding of coding principles. It's a promising area, but currently, it might not be as effective or reliable as human coders. The potential can be high in the future, but as of now, it can be categorized under low potential.\n"
          ]
        }
      ],
      "source": [
        "# Install OpenAI 1.x (if not already installed)\n",
        "!pip install --upgrade openai --quiet\n",
        "\n",
        "import openai\n",
        "from google.colab import userdata\n",
        "\n",
        "# Securely fetch API key\n",
        "api_key = userdata.get(\"OPEN_API_KEY\")\n",
        "\n",
        "# Initialize client\n",
        "client = openai.OpenAI(api_key=api_key)\n",
        "\n",
        "# Your prompt and idea list\n",
        "messages = [\n",
        "    {\"role\": \"system\", \"content\": \"You're an expert in AI product innovation.\"},\n",
        "    {\"role\": \"user\", \"content\": \"\"\"\n",
        "Here are a bunch of raw ideas for improving products or solving problems.\n",
        "Evaluate which of these are most promising for applying AI. Group them into:\n",
        "1. High potential\n",
        "2. Moderate potential\n",
        "3. Low potential\n",
        "\n",
        "Here are the ideas:\n",
        "- Customers struggle to find the right product quickly.\n",
        "- Support tickets are often about password resets.\n",
        "- Users complain that recommendations feel generic.\n",
        "- Automate data tagging for analytics.\n",
        "- Improve onboarding using interactive walkthroughs.\n",
        "- Use AI to summarize long internal reports.\n",
        "- AI copilots are improving productivity.\n",
        "- Large language models are being used to write code.\n",
        "- AI-driven personalization increases engagement rates.\n",
        "\"\"\"}\n",
        "]\n",
        "\n",
        "# Use ChatCompletion with updated interface\n",
        "response = client.chat.completions.create(\n",
        "    model=\"gpt-4\",\n",
        "    messages=messages,\n",
        "    temperature=0.7,\n",
        "    max_tokens=600\n",
        ")\n",
        "\n",
        "# Print the response\n",
        "print(\"ChatGPT's AI Opportunity Evaluation:\\n\")\n",
        "print(response.choices[0].message.content)\n"
      ]
    }
  ]
}