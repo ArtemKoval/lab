{
  "nbformat": 4,
  "nbformat_minor": 0,
  "metadata": {
    "colab": {
      "provenance": []
    },
    "kernelspec": {
      "name": "python3",
      "display_name": "Python 3"
    },
    "language_info": {
      "name": "python"
    }
  },
  "cells": [
    {
      "cell_type": "code",
      "execution_count": 6,
      "metadata": {
        "colab": {
          "base_uri": "https://localhost:8080/"
        },
        "id": "oJQdHnZiJvR9",
        "outputId": "fbe62fc7-37b8-4add-82a4-16d20ff85332"
      },
      "outputs": [
        {
          "output_type": "stream",
          "name": "stdout",
          "text": [
            "=== Horizontal Use Case: Grammar Correction ===\n",
            "The correct sentence is: 'I am very happy to help you today with your request.'\n",
            "\n",
            "=== Vertical Use Case: Banking Support ===\n",
            "Dear [Customer's Name],\n",
            "\n",
            "Thank you for reaching out to us regarding the $25 fee on your checking account. We understand your concern and we're here to help.\n",
            "\n",
            "This fee could be related to a number of things, such as an overdraft fee, monthly maintenance, or a low balance fee. However, without accessing your account, I cannot determine the exact reason.\n",
            "\n",
            "For your privacy and security, I recommend you log into your online account or mobile banking app to view the details of the charges. Alternatively, you can call our customer service hotline at [Bank’s customer service number], where our representatives will be more than happy to assist you in real-time.\n",
            "\n",
            "We apologize for any inconvenience caused and appreciate your understanding.\n",
            "\n",
            "Best Regards,\n",
            "[Your Name]\n",
            "[Your Position]\n"
          ]
        }
      ],
      "source": [
        "# Install the latest OpenAI SDK\n",
        "!pip install --upgrade openai --quiet\n",
        "\n",
        "import openai\n",
        "from google.colab import userdata\n",
        "\n",
        "# Securely get the API key from Colab secrets\n",
        "api_key = userdata.get('OPENAI_API_KEY')\n",
        "\n",
        "# Initialize the OpenAI client with the key\n",
        "client = openai.OpenAI(api_key=api_key)\n",
        "\n",
        "# Function to send a message to ChatGPT\n",
        "def chat_with_gpt(prompt, system_role=\"You are a helpful assistant.\"):\n",
        "    response = client.chat.completions.create(\n",
        "        model=\"gpt-4\",\n",
        "        messages=[\n",
        "            {\"role\": \"system\", \"content\": system_role},\n",
        "            {\"role\": \"user\", \"content\": prompt}\n",
        "        ],\n",
        "        temperature=0.7\n",
        "    )\n",
        "    return response.choices[0].message.content\n",
        "\n",
        "# Horizontal use case: General grammar correction\n",
        "horizontal_prompt = \"Please correct this sentence: 'I is very happy to helps you today with your request.'\"\n",
        "horizontal_output = chat_with_gpt(\n",
        "    horizontal_prompt,\n",
        "    system_role=\"You are a grammar correction assistant.\"\n",
        ")\n",
        "\n",
        "# Vertical use case: Finance-specific customer support\n",
        "vertical_prompt = \"A customer writes: 'Why was there a $25 fee on my checking account this month?'\"\n",
        "vertical_output = chat_with_gpt(\n",
        "    vertical_prompt,\n",
        "    system_role=\"You are a customer support assistant for a bank. Provide clear, polite, and compliant responses.\"\n",
        ")\n",
        "\n",
        "# Print results\n",
        "print(\"=== Horizontal Use Case: Grammar Correction ===\")\n",
        "print(horizontal_output)\n",
        "\n",
        "print(\"\\n=== Vertical Use Case: Banking Support ===\")\n",
        "print(vertical_output)\n"
      ]
    }
  ]
}