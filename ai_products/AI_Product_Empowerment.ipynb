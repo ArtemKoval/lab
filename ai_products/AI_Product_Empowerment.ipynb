{
  "nbformat": 4,
  "nbformat_minor": 0,
  "metadata": {
    "colab": {
      "provenance": []
    },
    "kernelspec": {
      "name": "python3",
      "display_name": "Python 3"
    },
    "language_info": {
      "name": "python"
    }
  },
  "cells": [
    {
      "cell_type": "code",
      "execution_count": 2,
      "metadata": {
        "colab": {
          "base_uri": "https://localhost:8080/"
        },
        "id": "RuWzRNwXwTKD",
        "outputId": "f3965dbd-e257-4efd-c3c1-45600bb7a7df"
      },
      "outputs": [
        {
          "output_type": "stream",
          "name": "stdout",
          "text": [
            "User: Explain how AI improves customer service experiences.\n",
            "AI Assistant: AI can greatly improve customer service experiences in several ways:\n",
            "\n",
            "1. **24/7 Availability**: AI-powered chatbots can provide instant responses to customer inquiries, even outside of regular business hours, ensuring that customers can get assistance whenever they need it.\n",
            "\n",
            "2. **Personalization**: AI can analyze customer data to provide personalized recommendations and solutions based on individual preferences and behaviors, creating a more tailored and satisfying experience for customers.\n",
            "\n",
            "3. **Efficiency**: AI algorithms can handle a large volume of customer inquiries simultaneously, reducing wait times and increasing the speed at which issues are resolved.\n",
            "\n",
            "4. **Consistency**: AI-powered systems can deliver consistent responses and information to customers, ensuring that all customers receive the same level of service regardless of the time of day or the\n"
          ]
        }
      ],
      "source": [
        "# First, ensure you have the latest openai package installed\n",
        "# !pip install openai --upgrade\n",
        "\n",
        "from openai import OpenAI\n",
        "from google.colab import userdata\n",
        "\n",
        "# Retrieve your OpenAI API key from Colab secrets\n",
        "api_key = userdata.get('OPENAI_API_KEY')\n",
        "\n",
        "# Initialize the client with your API key\n",
        "client = OpenAI(api_key=api_key)\n",
        "\n",
        "# Function to generate AI-powered responses using the updated API\n",
        "def generate_turbo_response(prompt):\n",
        "    response = client.chat.completions.create(\n",
        "        model=\"gpt-3.5-turbo\",\n",
        "        messages=[\n",
        "            {\"role\": \"system\", \"content\": \"You are a helpful assistant for business innovation.\"},\n",
        "            {\"role\": \"user\", \"content\": prompt}\n",
        "        ],\n",
        "        temperature=0.7,\n",
        "        max_tokens=150\n",
        "    )\n",
        "    return response.choices[0].message.content\n",
        "\n",
        "# Example usage\n",
        "user_query = \"Explain how AI improves customer service experiences.\"\n",
        "ai_response = generate_turbo_response(user_query)\n",
        "\n",
        "print(f\"User: {user_query}\")\n",
        "print(f\"AI Assistant: {ai_response}\")"
      ]
    }
  ]
}