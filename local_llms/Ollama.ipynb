{
  "nbformat": 4,
  "nbformat_minor": 0,
  "metadata": {
    "colab": {
      "provenance": [],
      "gpuType": "T4"
    },
    "kernelspec": {
      "name": "python3",
      "display_name": "Python 3"
    },
    "language_info": {
      "name": "python"
    },
    "accelerator": "GPU"
  },
  "cells": [
    {
      "cell_type": "code",
      "execution_count": 4,
      "metadata": {
        "colab": {
          "base_uri": "https://localhost:8080/"
        },
        "id": "niv3T0If7JZf",
        "outputId": "20997bb0-0071-4caa-89d0-2ac8eb8f8c1a"
      },
      "outputs": [
        {
          "output_type": "stream",
          "name": "stdout",
          "text": [
            ">>> Cleaning up old version at /usr/local/lib/ollama\n",
            ">>> Installing ollama to /usr/local\n",
            ">>> Downloading Linux amd64 bundle\n",
            "######################################################################## 100.0%\n",
            ">>> Adding ollama user to video group...\n",
            ">>> Adding current user to ollama group...\n",
            ">>> Creating ollama systemd service...\n",
            "\u001b[1m\u001b[31mWARNING:\u001b[m systemd is not running\n",
            "\u001b[1m\u001b[31mWARNING:\u001b[m Unable to detect NVIDIA/AMD GPU. Install lspci or lshw to automatically detect and install GPU dependencies.\n",
            ">>> The Ollama API is now available at 127.0.0.1:11434.\n",
            ">>> Install complete. Run \"ollama\" from the command line.\n",
            "\u001b[?2026h\u001b[?25l\u001b[1Gpulling manifest ⠙ \u001b[K\u001b[?25h\u001b[?2026l\u001b[?2026h\u001b[?25l\u001b[1Gpulling manifest ⠙ \u001b[K\u001b[?25h\u001b[?2026l\u001b[?2026h\u001b[?25l\u001b[1Gpulling manifest ⠹ \u001b[K\u001b[?25h\u001b[?2026l\u001b[?2026h\u001b[?25l\u001b[1Gpulling manifest ⠼ \u001b[K\u001b[?25h\u001b[?2026l\u001b[?2026h\u001b[?25l\u001b[1Gpulling manifest \u001b[K\n",
            "pulling aeda25e63ebd: 100% ▕▏ 3.3 GB                         \u001b[K\n",
            "pulling e0a42594d802: 100% ▕▏  358 B                         \u001b[K\n",
            "pulling dd084c7d92a3: 100% ▕▏ 8.4 KB                         \u001b[K\n",
            "pulling 3116c5225075: 100% ▕▏   77 B                         \u001b[K\n",
            "pulling b6ae5839783f: 100% ▕▏  489 B                         \u001b[K\n",
            "verifying sha256 digest \u001b[K\n",
            "writing manifest \u001b[K\n",
            "success \u001b[K\u001b[?25h\u001b[?2026l\n",
            "Response from Ollama:\n",
            "<Response [200]>\n"
          ]
        }
      ],
      "source": [
        "# Ollama Demonstration in Google Colab\n",
        "\n",
        "# Install Ollama\n",
        "!curl -fsSL https://ollama.com/install.sh | sh\n",
        "\n",
        "# Start Ollama server in background\n",
        "import subprocess\n",
        "subprocess.Popen(['ollama', 'serve'])\n",
        "\n",
        "# Wait briefly to ensure server is running\n",
        "import time\n",
        "time.sleep(5)\n",
        "\n",
        "# Pull a lightweight model (e.g., llama2)\n",
        "!ollama pull gemma3\n",
        "\n",
        "# Example API interaction using Python requests\n",
        "import requests\n",
        "\n",
        "url = \"http://localhost:11434/api/generate\"\n",
        "\n",
        "# Define prompt\n",
        "data = {\n",
        "    \"model\": \"gemma3\",\n",
        "    \"prompt\": \"Explain why local AI models like Ollama are beneficial.\"\n",
        "}\n",
        "\n",
        "# Make request to local Ollama server\n",
        "response = requests.post(url, json=data)\n",
        "\n",
        "# Display response\n",
        "print(\"Response from Ollama:\")\n",
        "print(response)\n"
      ]
    }
  ]
}