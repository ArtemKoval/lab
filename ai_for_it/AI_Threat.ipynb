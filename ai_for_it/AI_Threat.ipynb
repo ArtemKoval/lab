{
  "nbformat": 4,
  "nbformat_minor": 0,
  "metadata": {
    "colab": {
      "provenance": []
    },
    "kernelspec": {
      "name": "python3",
      "display_name": "Python 3"
    },
    "language_info": {
      "name": "python"
    }
  },
  "cells": [
    {
      "cell_type": "code",
      "execution_count": 4,
      "metadata": {
        "colab": {
          "base_uri": "https://localhost:8080/"
        },
        "id": "1JhjM5ZdsP_t",
        "outputId": "de7f85d7-d041-4397-e62d-2c803a926dba"
      },
      "outputs": [
        {
          "output_type": "stream",
          "name": "stdout",
          "text": [
            "Generating SQL query with AI...\n",
            "Generated SQL Query:\n",
            " SELECT name, age, email\n",
            "FROM users\n",
            "WHERE age > 25;\n",
            "\n",
            "Executing query locally (simulated DB):\n",
            "   name  age               email\n",
            "  Alice   28   alice@example.com\n",
            "Charlie   30 charlie@example.com\n"
          ]
        }
      ],
      "source": [
        "# Step 1: Install required packages\n",
        "!pip install --quiet langchain langchain-community openai pandas\n",
        "\n",
        "# Step 2: Set up OpenAI API key\n",
        "import os\n",
        "from langchain.llms import OpenAI\n",
        "from google.colab import userdata\n",
        "\n",
        "# Replace with your actual OpenAI API key\n",
        "os.environ[\"OPENAI_API_KEY\"] = userdata.get('OPENAI_API_KEY')\n",
        "\n",
        "llm = OpenAI(model=\"gpt-3.5-turbo-instruct\", temperature=0)\n",
        "\n",
        "# Step 3: Prompt the AI to generate a SQL query\n",
        "prompt = \"\"\"\n",
        "Generate a SQL query to find all users over the age of 25\n",
        "from a table called 'users' that contains columns 'name', 'age', and 'email'.\n",
        "\"\"\"\n",
        "\n",
        "print(\"Generating SQL query with AI...\")\n",
        "generated_sql = llm(prompt).strip()\n",
        "print(\"Generated SQL Query:\\n\", generated_sql)\n",
        "\n",
        "# Step 4: Simulate executing the query using pandas\n",
        "import pandas as pd\n",
        "\n",
        "# Sample user data\n",
        "data = {\n",
        "    'name': ['Alice', 'Bob', 'Charlie'],\n",
        "    'age': [28, 22, 30],\n",
        "    'email': ['alice@example.com', 'bob@example.com', 'charlie@example.com']\n",
        "}\n",
        "df_users = pd.DataFrame(data)\n",
        "\n",
        "# Apply the logic from the generated SQL manually\n",
        "print(\"\\nExecuting query locally (simulated DB):\")\n",
        "result = df_users[df_users['age'] > 25][['name', 'age', 'email']]\n",
        "print(result.to_string(index=False))"
      ]
    }
  ]
}