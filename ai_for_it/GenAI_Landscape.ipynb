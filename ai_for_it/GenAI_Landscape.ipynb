{
  "nbformat": 4,
  "nbformat_minor": 0,
  "metadata": {
    "colab": {
      "provenance": []
    },
    "kernelspec": {
      "name": "python3",
      "display_name": "Python 3"
    },
    "language_info": {
      "name": "python"
    }
  },
  "cells": [
    {
      "cell_type": "code",
      "execution_count": 4,
      "metadata": {
        "colab": {
          "base_uri": "https://localhost:8080/"
        },
        "id": "ptb9AkSsZ9xL",
        "outputId": "6d00e24a-ac49-4351-f434-56102f6f173d"
      },
      "outputs": [
        {
          "output_type": "stream",
          "name": "stdout",
          "text": [
            "AI Explanation:\n",
            " Generative AI can assist in software development in various ways:\n",
            "\n",
            "1. Code generation: Generative AI can help automate the process of writing code by generating code snippets or even complete programs based on a given input or requirement. This can save developers time and effort, especially for repetitive tasks.\n",
            "\n",
            "2. Bug fixing: Generative AI models can be trained to identify and fix common bugs in code, helping developers in debugging their programs more efficiently.\n",
            "\n",
            "3. Code completion: Generative AI can suggest auto-complete options for code, thereby speeding up the coding process and reducing errors.\n",
            "\n",
            "4. Design and architecture: Generative AI can be used to generate designs and architectures for software systems, helping developers in the initial stages of planning and development.\n",
            "\n",
            "5. Natural language processing: Generative AI can be leveraged for natural language processing tasks, such as converting text descriptions into code or vice versa, facilitating communication between non-technical stakeholders and developers.\n",
            "\n",
            "Overall, generative AI can assist in software development by automating mundane tasks, enhancing productivity, improving code quality, and accelerating the development process.\n",
            "\n",
            "Mermaid Flowchart Code:\n",
            " I'm sorry, but I cannot generate a Mermaid.js flowchart as it requires a specific syntax and format that cannot be easily generated through text. However, I can provide you with a description of a simple AI application workflow:\n",
            "\n",
            "1. Start: User interacts with the AI application.\n",
            "2. Input: User provides input or data to the application.\n",
            "3. Processing: The application processes the input using AI algorithms.\n",
            "4. Output: The application generates an output or response based on the processed input.\n",
            "5. Feedback: User evaluates the output and provides feedback to improve the application's performance.\n",
            "6. Loop: The application continues to learn and improve through user feedback and ongoing data processing.\n",
            "\n",
            "This workflow can be visualized in a flowchart using Mermaid.js with appropriate symbols and connections. You can try creating the flowchart yourself using the Mermaid.js documentation and examples.\n"
          ]
        }
      ],
      "source": [
        "from openai import OpenAI\n",
        "from google.colab import userdata\n",
        "\n",
        "# Retrieve the OpenAI API key from Colab userdata\n",
        "openai_api_key = userdata.get('OPENAI_API_KEY')  # Replace with your secret name\n",
        "\n",
        "# Initialize the OpenAI client with the retrieved API key\n",
        "client = OpenAI(api_key=openai_api_key)\n",
        "\n",
        "def generate_text(prompt):\n",
        "    response = client.chat.completions.create(\n",
        "        model=\"gpt-3.5-turbo\",\n",
        "        messages=[\n",
        "            {\"role\": \"user\", \"content\": prompt}\n",
        "        ]\n",
        "    )\n",
        "    return response.choices[0].message.content\n",
        "\n",
        "# Example 1: Generate descriptive text\n",
        "description = generate_text(\"Explain how generative AI can assist in software development.\")\n",
        "print(\"AI Explanation:\\n\", description)\n",
        "\n",
        "# Example 2: Generate Mermaid flowchart code\n",
        "def generate_mermaid_flowchart():\n",
        "    prompt = \"Generate a Mermaid.js flowchart for a simple AI application workflow.\"\n",
        "    return generate_text(prompt)\n",
        "\n",
        "flowchart_code = generate_mermaid_flowchart()\n",
        "print(\"\\nMermaid Flowchart Code:\\n\", flowchart_code)"
      ]
    }
  ]
}