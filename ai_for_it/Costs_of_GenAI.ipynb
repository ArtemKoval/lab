{
  "nbformat": 4,
  "nbformat_minor": 0,
  "metadata": {
    "colab": {
      "provenance": []
    },
    "kernelspec": {
      "name": "python3",
      "display_name": "Python 3"
    },
    "language_info": {
      "name": "python"
    }
  },
  "cells": [
    {
      "cell_type": "code",
      "execution_count": 2,
      "metadata": {
        "colab": {
          "base_uri": "https://localhost:8080/"
        },
        "id": "FqNvVUVEP_vh",
        "outputId": "eab6b32f-d4c6-4339-9807-1d47bfbe36d7"
      },
      "outputs": [
        {
          "output_type": "stream",
          "name": "stdout",
          "text": [
            "ChatGPT Response:\n",
            "\n",
            "Sure! \n",
            "\n",
            "Supervised learning and unsupervised learning are two common approaches in machine learning:\n",
            "\n",
            "1. Supervised Learning:\n",
            "- In supervised learning, the model is trained on a labeled dataset, meaning the input data is paired with the correct output.\n",
            "- The goal of supervised learning is to learn a mapping function from the input variables to the output variable, making predictions on unseen data.\n",
            "- Examples of supervised learning algorithms include regression and classification algorithms.\n",
            "- The main objective is to minimize the error between the predicted output and the actual output.\n",
            "\n",
            "2. Unsupervised Learning:\n",
            "- In unsupervised learning, the model is trained on an unlabeled dataset, meaning the input data does not have corresponding output labels.\n",
            "- The goal of unsupervised learning is to discover hidden patterns or structures in the data without explicit guidance.\n",
            "- Examples of unsupervised learning algorithms include clustering algorithms and dimensionality reduction techniques.\n",
            "- The main objective is to explore the data and extract meaningful insights without knowing the correct output.\n",
            "\n",
            "In summary, supervised learning is about learning from labeled data to make predictions, while unsupervised learning is about exploring and finding patterns in unlabeled data.\n"
          ]
        }
      ],
      "source": [
        "# Step 1: Install required package\n",
        "!pip -q install openai\n",
        "\n",
        "# Step 2: Import libraries\n",
        "from openai import OpenAI\n",
        "from google.colab import userdata\n",
        "\n",
        "# Step 3: Set up the client with a secure API key\n",
        "client = OpenAI(api_key=userdata.get('OPENAI_API_KEY'))\n",
        "\n",
        "# Step 4: Define a function to query ChatGPT\n",
        "def chat_with_gpt(prompt):\n",
        "    try:\n",
        "        response = client.chat.completions.create(\n",
        "            model=\"gpt-3.5-turbo\",\n",
        "            messages=[\n",
        "                {\"role\": \"system\", \"content\": \"You are a helpful assistant.\"},\n",
        "                {\"role\": \"user\", \"content\": prompt}\n",
        "            ]\n",
        "        )\n",
        "        return response.choices[0].message.content\n",
        "    except Exception as e:\n",
        "        return f\"Error: {str(e)}\"\n",
        "\n",
        "# Step 5: Example usage\n",
        "user_input = \"Explain the difference between supervised and unsupervised learning.\"\n",
        "response = chat_with_gpt(user_input)\n",
        "\n",
        "print(\"ChatGPT Response:\\n\")\n",
        "print(response)"
      ]
    }
  ]
}