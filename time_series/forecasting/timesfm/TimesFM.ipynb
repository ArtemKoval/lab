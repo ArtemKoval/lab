{
  "nbformat": 4,
  "nbformat_minor": 0,
  "metadata": {
    "colab": {
      "provenance": []
    },
    "kernelspec": {
      "name": "python3",
      "display_name": "Python 3"
    },
    "language_info": {
      "name": "python"
    },
    "widgets": {
      "application/vnd.jupyter.widget-state+json": {
        "4cd39d003a094d178d238d671ec7f900": {
          "model_module": "@jupyter-widgets/controls",
          "model_name": "HBoxModel",
          "model_module_version": "1.5.0",
          "state": {
            "_dom_classes": [],
            "_model_module": "@jupyter-widgets/controls",
            "_model_module_version": "1.5.0",
            "_model_name": "HBoxModel",
            "_view_count": null,
            "_view_module": "@jupyter-widgets/controls",
            "_view_module_version": "1.5.0",
            "_view_name": "HBoxView",
            "box_style": "",
            "children": [
              "IPY_MODEL_a76b09cc4ea84343b75aa6cb2812d8c1",
              "IPY_MODEL_8a884eef648b4d298f1185e09b6f2387",
              "IPY_MODEL_e992d905a22b44ecba50e380c11a8785"
            ],
            "layout": "IPY_MODEL_fdec70f93d2643eb98070e16e7c74ddd"
          }
        },
        "a76b09cc4ea84343b75aa6cb2812d8c1": {
          "model_module": "@jupyter-widgets/controls",
          "model_name": "HTMLModel",
          "model_module_version": "1.5.0",
          "state": {
            "_dom_classes": [],
            "_model_module": "@jupyter-widgets/controls",
            "_model_module_version": "1.5.0",
            "_model_name": "HTMLModel",
            "_view_count": null,
            "_view_module": "@jupyter-widgets/controls",
            "_view_module_version": "1.5.0",
            "_view_name": "HTMLView",
            "description": "",
            "description_tooltip": null,
            "layout": "IPY_MODEL_351c07d8649a4da4987ed9510097fdbd",
            "placeholder": "​",
            "style": "IPY_MODEL_1bf2b5f00b994ddabef374490f2393cd",
            "value": "Fetching 5 files: 100%"
          }
        },
        "8a884eef648b4d298f1185e09b6f2387": {
          "model_module": "@jupyter-widgets/controls",
          "model_name": "FloatProgressModel",
          "model_module_version": "1.5.0",
          "state": {
            "_dom_classes": [],
            "_model_module": "@jupyter-widgets/controls",
            "_model_module_version": "1.5.0",
            "_model_name": "FloatProgressModel",
            "_view_count": null,
            "_view_module": "@jupyter-widgets/controls",
            "_view_module_version": "1.5.0",
            "_view_name": "ProgressView",
            "bar_style": "success",
            "description": "",
            "description_tooltip": null,
            "layout": "IPY_MODEL_06919e80992b4fdd8ffb8aba68f22f12",
            "max": 5,
            "min": 0,
            "orientation": "horizontal",
            "style": "IPY_MODEL_f98f0d609b364e42afdabf86ddf6f43d",
            "value": 5
          }
        },
        "e992d905a22b44ecba50e380c11a8785": {
          "model_module": "@jupyter-widgets/controls",
          "model_name": "HTMLModel",
          "model_module_version": "1.5.0",
          "state": {
            "_dom_classes": [],
            "_model_module": "@jupyter-widgets/controls",
            "_model_module_version": "1.5.0",
            "_model_name": "HTMLModel",
            "_view_count": null,
            "_view_module": "@jupyter-widgets/controls",
            "_view_module_version": "1.5.0",
            "_view_name": "HTMLView",
            "description": "",
            "description_tooltip": null,
            "layout": "IPY_MODEL_b2e6ad821e564538a2c922c40ce49949",
            "placeholder": "​",
            "style": "IPY_MODEL_4af4d2bddf5949a8835c80b720c26dac",
            "value": " 5/5 [00:00&lt;00:00, 140.05it/s]"
          }
        },
        "fdec70f93d2643eb98070e16e7c74ddd": {
          "model_module": "@jupyter-widgets/base",
          "model_name": "LayoutModel",
          "model_module_version": "1.2.0",
          "state": {
            "_model_module": "@jupyter-widgets/base",
            "_model_module_version": "1.2.0",
            "_model_name": "LayoutModel",
            "_view_count": null,
            "_view_module": "@jupyter-widgets/base",
            "_view_module_version": "1.2.0",
            "_view_name": "LayoutView",
            "align_content": null,
            "align_items": null,
            "align_self": null,
            "border": null,
            "bottom": null,
            "display": null,
            "flex": null,
            "flex_flow": null,
            "grid_area": null,
            "grid_auto_columns": null,
            "grid_auto_flow": null,
            "grid_auto_rows": null,
            "grid_column": null,
            "grid_gap": null,
            "grid_row": null,
            "grid_template_areas": null,
            "grid_template_columns": null,
            "grid_template_rows": null,
            "height": null,
            "justify_content": null,
            "justify_items": null,
            "left": null,
            "margin": null,
            "max_height": null,
            "max_width": null,
            "min_height": null,
            "min_width": null,
            "object_fit": null,
            "object_position": null,
            "order": null,
            "overflow": null,
            "overflow_x": null,
            "overflow_y": null,
            "padding": null,
            "right": null,
            "top": null,
            "visibility": null,
            "width": null
          }
        },
        "351c07d8649a4da4987ed9510097fdbd": {
          "model_module": "@jupyter-widgets/base",
          "model_name": "LayoutModel",
          "model_module_version": "1.2.0",
          "state": {
            "_model_module": "@jupyter-widgets/base",
            "_model_module_version": "1.2.0",
            "_model_name": "LayoutModel",
            "_view_count": null,
            "_view_module": "@jupyter-widgets/base",
            "_view_module_version": "1.2.0",
            "_view_name": "LayoutView",
            "align_content": null,
            "align_items": null,
            "align_self": null,
            "border": null,
            "bottom": null,
            "display": null,
            "flex": null,
            "flex_flow": null,
            "grid_area": null,
            "grid_auto_columns": null,
            "grid_auto_flow": null,
            "grid_auto_rows": null,
            "grid_column": null,
            "grid_gap": null,
            "grid_row": null,
            "grid_template_areas": null,
            "grid_template_columns": null,
            "grid_template_rows": null,
            "height": null,
            "justify_content": null,
            "justify_items": null,
            "left": null,
            "margin": null,
            "max_height": null,
            "max_width": null,
            "min_height": null,
            "min_width": null,
            "object_fit": null,
            "object_position": null,
            "order": null,
            "overflow": null,
            "overflow_x": null,
            "overflow_y": null,
            "padding": null,
            "right": null,
            "top": null,
            "visibility": null,
            "width": null
          }
        },
        "1bf2b5f00b994ddabef374490f2393cd": {
          "model_module": "@jupyter-widgets/controls",
          "model_name": "DescriptionStyleModel",
          "model_module_version": "1.5.0",
          "state": {
            "_model_module": "@jupyter-widgets/controls",
            "_model_module_version": "1.5.0",
            "_model_name": "DescriptionStyleModel",
            "_view_count": null,
            "_view_module": "@jupyter-widgets/base",
            "_view_module_version": "1.2.0",
            "_view_name": "StyleView",
            "description_width": ""
          }
        },
        "06919e80992b4fdd8ffb8aba68f22f12": {
          "model_module": "@jupyter-widgets/base",
          "model_name": "LayoutModel",
          "model_module_version": "1.2.0",
          "state": {
            "_model_module": "@jupyter-widgets/base",
            "_model_module_version": "1.2.0",
            "_model_name": "LayoutModel",
            "_view_count": null,
            "_view_module": "@jupyter-widgets/base",
            "_view_module_version": "1.2.0",
            "_view_name": "LayoutView",
            "align_content": null,
            "align_items": null,
            "align_self": null,
            "border": null,
            "bottom": null,
            "display": null,
            "flex": null,
            "flex_flow": null,
            "grid_area": null,
            "grid_auto_columns": null,
            "grid_auto_flow": null,
            "grid_auto_rows": null,
            "grid_column": null,
            "grid_gap": null,
            "grid_row": null,
            "grid_template_areas": null,
            "grid_template_columns": null,
            "grid_template_rows": null,
            "height": null,
            "justify_content": null,
            "justify_items": null,
            "left": null,
            "margin": null,
            "max_height": null,
            "max_width": null,
            "min_height": null,
            "min_width": null,
            "object_fit": null,
            "object_position": null,
            "order": null,
            "overflow": null,
            "overflow_x": null,
            "overflow_y": null,
            "padding": null,
            "right": null,
            "top": null,
            "visibility": null,
            "width": null
          }
        },
        "f98f0d609b364e42afdabf86ddf6f43d": {
          "model_module": "@jupyter-widgets/controls",
          "model_name": "ProgressStyleModel",
          "model_module_version": "1.5.0",
          "state": {
            "_model_module": "@jupyter-widgets/controls",
            "_model_module_version": "1.5.0",
            "_model_name": "ProgressStyleModel",
            "_view_count": null,
            "_view_module": "@jupyter-widgets/base",
            "_view_module_version": "1.2.0",
            "_view_name": "StyleView",
            "bar_color": null,
            "description_width": ""
          }
        },
        "b2e6ad821e564538a2c922c40ce49949": {
          "model_module": "@jupyter-widgets/base",
          "model_name": "LayoutModel",
          "model_module_version": "1.2.0",
          "state": {
            "_model_module": "@jupyter-widgets/base",
            "_model_module_version": "1.2.0",
            "_model_name": "LayoutModel",
            "_view_count": null,
            "_view_module": "@jupyter-widgets/base",
            "_view_module_version": "1.2.0",
            "_view_name": "LayoutView",
            "align_content": null,
            "align_items": null,
            "align_self": null,
            "border": null,
            "bottom": null,
            "display": null,
            "flex": null,
            "flex_flow": null,
            "grid_area": null,
            "grid_auto_columns": null,
            "grid_auto_flow": null,
            "grid_auto_rows": null,
            "grid_column": null,
            "grid_gap": null,
            "grid_row": null,
            "grid_template_areas": null,
            "grid_template_columns": null,
            "grid_template_rows": null,
            "height": null,
            "justify_content": null,
            "justify_items": null,
            "left": null,
            "margin": null,
            "max_height": null,
            "max_width": null,
            "min_height": null,
            "min_width": null,
            "object_fit": null,
            "object_position": null,
            "order": null,
            "overflow": null,
            "overflow_x": null,
            "overflow_y": null,
            "padding": null,
            "right": null,
            "top": null,
            "visibility": null,
            "width": null
          }
        },
        "4af4d2bddf5949a8835c80b720c26dac": {
          "model_module": "@jupyter-widgets/controls",
          "model_name": "DescriptionStyleModel",
          "model_module_version": "1.5.0",
          "state": {
            "_model_module": "@jupyter-widgets/controls",
            "_model_module_version": "1.5.0",
            "_model_name": "DescriptionStyleModel",
            "_view_count": null,
            "_view_module": "@jupyter-widgets/base",
            "_view_module_version": "1.2.0",
            "_view_name": "StyleView",
            "description_width": ""
          }
        }
      }
    }
  },
  "cells": [
    {
      "cell_type": "code",
      "execution_count": 8,
      "metadata": {
        "colab": {
          "base_uri": "https://localhost:8080/",
          "height": 1000,
          "referenced_widgets": [
            "4cd39d003a094d178d238d671ec7f900",
            "a76b09cc4ea84343b75aa6cb2812d8c1",
            "8a884eef648b4d298f1185e09b6f2387",
            "e992d905a22b44ecba50e380c11a8785",
            "fdec70f93d2643eb98070e16e7c74ddd",
            "351c07d8649a4da4987ed9510097fdbd",
            "1bf2b5f00b994ddabef374490f2393cd",
            "06919e80992b4fdd8ffb8aba68f22f12",
            "f98f0d609b364e42afdabf86ddf6f43d",
            "b2e6ad821e564538a2c922c40ce49949",
            "4af4d2bddf5949a8835c80b720c26dac"
          ]
        },
        "id": "16O7YE8MiJbF",
        "outputId": "2771743f-8407-4f4b-b71c-aa35b39e16fd"
      },
      "outputs": [
        {
          "output_type": "display_data",
          "data": {
            "text/plain": [
              "Fetching 5 files:   0%|          | 0/5 [00:00<?, ?it/s]"
            ],
            "application/vnd.jupyter.widget-view+json": {
              "version_major": 2,
              "version_minor": 0,
              "model_id": "4cd39d003a094d178d238d671ec7f900"
            }
          },
          "metadata": {}
        },
        {
          "output_type": "stream",
          "name": "stdout",
          "text": [
            "Processing dataframe with multiple processes.\n",
            "Finished preprocessing dataframe.\n",
            "Finished forecasting.\n"
          ]
        },
        {
          "output_type": "stream",
          "name": "stderr",
          "text": [
            "/usr/local/lib/python3.11/dist-packages/utilsforecast/processing.py:384: FutureWarning: 'H' is deprecated and will be removed in a future version, please use 'h' instead.\n",
            "  freq = pd.tseries.frequencies.to_offset(freq)\n",
            "/usr/local/lib/python3.11/dist-packages/utilsforecast/processing.py:440: FutureWarning: 'H' is deprecated and will be removed in a future version, please use 'h' instead.\n",
            "  freq = pd.tseries.frequencies.to_offset(freq)\n"
          ]
        },
        {
          "output_type": "display_data",
          "data": {
            "text/plain": [
              "<Figure size 1200x600 with 1 Axes>"
            ],
            "image/png": "[encoded data removed]"
          },
          "metadata": {}
        },
        {
          "output_type": "stream",
          "name": "stdout",
          "text": [
            "Processing dataframe with multiple processes.\n",
            "Finished preprocessing dataframe.\n",
            "Finished forecasting.\n",
            "Processing dataframe with multiple processes.\n"
          ]
        },
        {
          "output_type": "stream",
          "name": "stderr",
          "text": [
            "/usr/local/lib/python3.11/dist-packages/utilsforecast/processing.py:384: FutureWarning: 'H' is deprecated and will be removed in a future version, please use 'h' instead.\n",
            "  freq = pd.tseries.frequencies.to_offset(freq)\n",
            "/usr/local/lib/python3.11/dist-packages/utilsforecast/processing.py:440: FutureWarning: 'H' is deprecated and will be removed in a future version, please use 'h' instead.\n",
            "  freq = pd.tseries.frequencies.to_offset(freq)\n"
          ]
        },
        {
          "output_type": "stream",
          "name": "stdout",
          "text": [
            "Finished preprocessing dataframe.\n",
            "Finished forecasting.\n",
            "Processing dataframe with multiple processes.\n"
          ]
        },
        {
          "output_type": "stream",
          "name": "stderr",
          "text": [
            "/usr/local/lib/python3.11/dist-packages/utilsforecast/processing.py:384: FutureWarning: 'H' is deprecated and will be removed in a future version, please use 'h' instead.\n",
            "  freq = pd.tseries.frequencies.to_offset(freq)\n",
            "/usr/local/lib/python3.11/dist-packages/utilsforecast/processing.py:440: FutureWarning: 'H' is deprecated and will be removed in a future version, please use 'h' instead.\n",
            "  freq = pd.tseries.frequencies.to_offset(freq)\n"
          ]
        },
        {
          "output_type": "stream",
          "name": "stdout",
          "text": [
            "Finished preprocessing dataframe.\n",
            "Finished forecasting.\n",
            "MAE: 0.0231\n"
          ]
        },
        {
          "output_type": "stream",
          "name": "stderr",
          "text": [
            "/usr/local/lib/python3.11/dist-packages/utilsforecast/processing.py:384: FutureWarning: 'H' is deprecated and will be removed in a future version, please use 'h' instead.\n",
            "  freq = pd.tseries.frequencies.to_offset(freq)\n",
            "/usr/local/lib/python3.11/dist-packages/utilsforecast/processing.py:440: FutureWarning: 'H' is deprecated and will be removed in a future version, please use 'h' instead.\n",
            "  freq = pd.tseries.frequencies.to_offset(freq)\n"
          ]
        }
      ],
      "source": [
        "# Install TimesFM\n",
        "!pip install timesfm --quiet\n",
        "\n",
        "# Import libraries\n",
        "import pandas as pd\n",
        "import matplotlib.pyplot as plt\n",
        "from timesfm import TimesFm, TimesFmHparams, TimesFmCheckpoint\n",
        "from sklearn.metrics import mean_absolute_error\n",
        "\n",
        "# Load EC2 CPU utilization data\n",
        "url = \"https://raw.githubusercontent.com/numenta/NAB/refs/heads/master/data/realAWSCloudwatch/ec2_cpu_utilization_24ae8d.csv\"\n",
        "df = pd.read_csv(url)\n",
        "df = df.rename(columns={\"timestamp\": \"ds\", \"value\": \"y\"})\n",
        "df[\"ds\"] = pd.to_datetime(df[\"ds\"])\n",
        "df[\"unique_id\"] = \"ec2_cpu\"\n",
        "\n",
        "# Save original for evaluation\n",
        "original_df = df.copy()\n",
        "\n",
        "# Initialize TimesFM\n",
        "tfm = TimesFm(\n",
        "    hparams=TimesFmHparams(\n",
        "        backend=\"cpu\",\n",
        "        per_core_batch_size=32,\n",
        "        horizon_len=10,\n",
        "        num_layers=50,\n",
        "        use_positional_embedding=False,\n",
        "        context_len=512,\n",
        "    ),\n",
        "    checkpoint=TimesFmCheckpoint(\n",
        "        huggingface_repo_id=\"google/timesfm-2.0-500m-pytorch\"\n",
        "    ),\n",
        ")\n",
        "\n",
        "# Forecast\n",
        "preds_df = tfm.forecast_on_df(\n",
        "    inputs=df,\n",
        "    freq=\"H\",\n",
        "    value_name=\"y\",\n",
        "    num_jobs=-1\n",
        ")\n",
        "\n",
        "# Merge predictions with original for plotting\n",
        "merged = preds_df.merge(original_df, on=[\"unique_id\", \"ds\"], how=\"left\")\n",
        "\n",
        "# Plot forecast\n",
        "subset = merged.set_index(\"ds\")\n",
        "plt.figure(figsize=(12, 6))\n",
        "plt.plot(subset[\"timesfm\"], label=\"Forecast\", linestyle=\"--\")\n",
        "plt.plot(subset[\"y\"], label=\"Actual\")\n",
        "plt.title(\"TimesFM Forecast - EC2 CPU Utilization\")\n",
        "plt.xlabel(\"Timestamp\")\n",
        "plt.ylabel(\"CPU Utilization\")\n",
        "plt.legend()\n",
        "plt.grid(True)\n",
        "plt.tight_layout()\n",
        "plt.show()\n",
        "\n",
        "# Cross-validation function\n",
        "def cross_validation_timesfm(df, h, n_windows, target_col, freq):\n",
        "    predictions = []\n",
        "    total_length = len(df)\n",
        "    for i in range(n_windows):\n",
        "        end_idx = total_length - i * h\n",
        "        start_idx = max(0, end_idx - 512)\n",
        "        cv_slice = df.iloc[start_idx:end_idx]\n",
        "        preds = tfm.forecast_on_df(\n",
        "            inputs=cv_slice,\n",
        "            freq=freq,\n",
        "            value_name=target_col,\n",
        "            num_jobs=-1\n",
        "        )\n",
        "        predictions.append(preds)\n",
        "    return pd.concat(predictions).sort_values([\"unique_id\", \"ds\"])\n",
        "\n",
        "# Run CV\n",
        "cv_preds = cross_validation_timesfm(\n",
        "    df=original_df,\n",
        "    h=24,\n",
        "    n_windows=3,\n",
        "    target_col=\"y\",\n",
        "    freq=\"H\"\n",
        ")\n",
        "\n",
        "# Evaluate (safe)\n",
        "merged_cv = cv_preds.merge(original_df, on=[\"unique_id\", \"ds\"], how=\"left\")\n",
        "merged_cv = merged_cv.dropna(subset=[\"y\", \"timesfm\"])  # Drop rows with NaNs\n",
        "\n",
        "actual = merged_cv[\"y\"].values\n",
        "forecast = merged_cv[\"timesfm\"].values\n",
        "mae = mean_absolute_error(actual, forecast)\n",
        "\n",
        "print(f\"MAE: {mae:.4f}\")"
      ]
    }
  ]
}